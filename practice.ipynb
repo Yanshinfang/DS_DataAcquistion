{
 "cells": [
  {
   "cell_type": "code",
   "execution_count": 1,
   "metadata": {},
   "outputs": [],
   "source": [
    "words = [\"a\", \"b\", \"a\", \"c\", \"d\", \"a\"] # sample input\n",
    "\n",
    "def count(words):\n",
    "\tcounts = {}\n",
    "\n",
    "\tfor w in words:\n",
    "\t\tif w not in counts.keys():\n",
    "\t\t\tcounts[w] = 1\n",
    "\t\telse:\n",
    "\t\t\tcounts[w] += 1\n",
    "\n",
    "\treturn counts\n"
   ]
  },
  {
   "cell_type": "code",
   "execution_count": 2,
   "metadata": {},
   "outputs": [
    {
     "data": {
      "text/plain": [
       "{'a': 3, 'b': 1, 'c': 1, 'd': 1}"
      ]
     },
     "execution_count": 2,
     "metadata": {},
     "output_type": "execute_result"
    }
   ],
   "source": [
    "count(words)"
   ]
  },
  {
   "cell_type": "code",
   "execution_count": null,
   "metadata": {},
   "outputs": [],
   "source": []
  }
 ],
 "metadata": {
  "kernelspec": {
   "display_name": "data",
   "language": "python",
   "name": "python3"
  },
  "language_info": {
   "codemirror_mode": {
    "name": "ipython",
    "version": 3
   },
   "file_extension": ".py",
   "mimetype": "text/x-python",
   "name": "python",
   "nbconvert_exporter": "python",
   "pygments_lexer": "ipython3",
   "version": "3.11.4"
  },
  "orig_nbformat": 4
 },
 "nbformat": 4,
 "nbformat_minor": 2
}
